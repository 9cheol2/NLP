{
 "cells": [
  {
   "cell_type": "markdown",
   "id": "4c8537a3",
   "metadata": {},
   "source": [
    "# Integer Encoding(정수 인코딩)"
   ]
  },
  {
   "cell_type": "code",
   "execution_count": 1,
   "id": "0ebbb4c7",
   "metadata": {},
   "outputs": [],
   "source": [
    "import numpy as np\n",
    "import torch\n",
    "from torchtext.vocab import build_vocab_from_iterator\n",
    "from torchtext.data.utils import get_tokenizer\n",
    "from collections import Counter"
   ]
  },
  {
   "cell_type": "code",
   "execution_count": 2,
   "id": "77461513",
   "metadata": {},
   "outputs": [
    {
     "name": "stderr",
     "output_type": "stream",
     "text": [
      "1lines [00:00, 22192.08lines/s]\n"
     ]
    },
    {
     "name": "stdout",
     "output_type": "stream",
     "text": [
      "인코딩 결과:\n",
      "<unk>: 1\n",
      "<pad>: 2\n",
      ",: 3\n",
      ".: 4\n",
      "기계학습의: 5\n",
      "딥러닝은: 6\n",
      "방법론입니다: 7\n",
      "분야로: 8\n",
      "인공지능의: 9\n",
      "한: 10\n",
      "인코딩된 텍스트:\n",
      "[6, 9, 10, 8, 3, 5, 10, 7, 4]\n",
      "None\n"
     ]
    },
    {
     "name": "stderr",
     "output_type": "stream",
     "text": [
      "1lines [00:00, 37117.73lines/s]"
     ]
    },
    {
     "name": "stdout",
     "output_type": "stream",
     "text": [
      "인코딩 결과:\n",
      "<unk>: 1\n",
      "<pad>: 2\n",
      ".: 3\n",
      "데이터: 4\n",
      "딥러닝은: 5\n",
      "복잡한: 6\n",
      "수: 7\n",
      "신경망을: 8\n",
      "심층: 9\n",
      "있습니다: 10\n",
      "통해: 11\n",
      "표현을: 12\n",
      "학습할: 13\n",
      "인코딩된 텍스트:\n",
      "[5, 9, 8, 11, 6, 4, 12, 13, 7, 10, 3]\n",
      "None\n"
     ]
    },
    {
     "name": "stderr",
     "output_type": "stream",
     "text": [
      "\n"
     ]
    }
   ],
   "source": [
    "def integer_encoding(text):\n",
    "    tokenizer = get_tokenizer(\"basic_english\")\n",
    "    word_counts = Counter(tokenizer(text))\n",
    "    vocab = build_vocab_from_iterator([word_counts.keys()])\n",
    "    word_to_int = {word: idx for idx, word in enumerate(vocab.stoi.keys(), 1)}\n",
    "\n",
    "    print(\"인코딩 결과:\")\n",
    "    for word, code in word_to_int.items():\n",
    "        print(f\"{word}: {code}\")\n",
    "\n",
    "    encoded_text = [word_to_int[word] for word in tokenizer(text)]\n",
    "\n",
    "    print(\"인코딩된 텍스트:\")\n",
    "    print(encoded_text)\n",
    "    \n",
    "    \n",
    "text1 = \"딥러닝은 인공지능의 한 분야로, 기계학습의 한 방법론입니다.\"\n",
    "text2 = \"딥러닝은 심층 신경망을 통해 복잡한 데이터 표현을 학습할 수 있습니다.\"\n",
    "print(integer_encoding(text1))\n",
    "print(integer_encoding(text2))"
   ]
  },
  {
   "cell_type": "markdown",
   "id": "bc4bff12",
   "metadata": {},
   "source": [
    "# Padding(패딩)"
   ]
  },
  {
   "cell_type": "code",
   "execution_count": 3,
   "id": "67697894",
   "metadata": {},
   "outputs": [
    {
     "name": "stderr",
     "output_type": "stream",
     "text": [
      "1lines [00:00, 47127.01lines/s]\n",
      "1lines [00:00, 49344.75lines/s]"
     ]
    },
    {
     "name": "stdout",
     "output_type": "stream",
     "text": [
      "[6, 9, 10, 8, 3, 5, 10, 7, 4, 0, 0]\n",
      "[5, 9, 8, 11, 6, 4, 12, 13, 7, 10, 3]\n"
     ]
    },
    {
     "name": "stderr",
     "output_type": "stream",
     "text": [
      "\n"
     ]
    }
   ],
   "source": [
    "def integer_encoding(text):\n",
    "    tokenizer = get_tokenizer(\"basic_english\")\n",
    "    word_counts = Counter(tokenizer(text))\n",
    "    vocab = build_vocab_from_iterator([word_counts.keys()])\n",
    "    word_to_int = {word: idx for idx, word in enumerate(vocab.stoi.keys(), 1)}\n",
    "\n",
    "    encoded_text = [word_to_int[word] for word in tokenizer(text)]\n",
    "\n",
    "    return encoded_text\n",
    "\n",
    "def pad_sequence(sequence, max_length, padding_value=0):\n",
    "    if len(sequence) >= max_length:\n",
    "        return sequence[:max_length]\n",
    "    else:\n",
    "        return sequence + [padding_value] * (max_length - len(sequence))\n",
    "\n",
    "text1 = \"딥러닝은 인공지능의 한 분야로, 기계학습의 한 방법론입니다.\"\n",
    "text2 = \"딥러닝은 심층 신경망을 통해 복잡한 데이터 표현을 학습할 수 있습니다.\"\n",
    "\n",
    "encoded_text1 = integer_encoding(text1)\n",
    "encoded_text2 = integer_encoding(text2)\n",
    "\n",
    "max_length = max(len(encoded_text1), len(encoded_text2))\n",
    "\n",
    "padded_text1 = pad_sequence(encoded_text1, max_length)\n",
    "padded_text2 = pad_sequence(encoded_text2, max_length)\n",
    "\n",
    "print(padded_text1)\n",
    "print(padded_text2)"
   ]
  },
  {
   "cell_type": "code",
   "execution_count": 4,
   "id": "ffd0be8e",
   "metadata": {},
   "outputs": [
    {
     "name": "stdout",
     "output_type": "stream",
     "text": [
      "[[ 6  9 10  8  3  5 10  7  4  0  0]\n",
      " [ 5  9  8 11  6  4 12 13  7 10  3]]\n"
     ]
    }
   ],
   "source": [
    "matrix = np.array([padded_text1, padded_text2])\n",
    "print(matrix)"
   ]
  }
 ],
 "metadata": {
  "kernelspec": {
   "display_name": "Python 3 (ipykernel)",
   "language": "python",
   "name": "python3"
  },
  "language_info": {
   "codemirror_mode": {
    "name": "ipython",
    "version": 3
   },
   "file_extension": ".py",
   "mimetype": "text/x-python",
   "name": "python",
   "nbconvert_exporter": "python",
   "pygments_lexer": "ipython3",
   "version": "3.11.5"
  }
 },
 "nbformat": 4,
 "nbformat_minor": 5
}
